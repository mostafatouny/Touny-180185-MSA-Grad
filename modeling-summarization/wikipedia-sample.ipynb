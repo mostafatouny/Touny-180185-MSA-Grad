{
 "cells": [
  {
   "cell_type": "markdown",
   "metadata": {},
   "source": [
    "## Local Modules"
   ]
  },
  {
   "cell_type": "code",
   "execution_count": 1,
   "metadata": {
    "_cell_guid": "01b01111-7458-454b-825f-b0581431b79a",
    "_kg_hide-input": true,
    "_uuid": "d1e0f3d0e6455394ae3470b8d861f7258dfe49b1"
   },
   "outputs": [],
   "source": [
    "import module.readData.main as readData\n",
    "import module.model.optimize as opti\n",
    "import module.summary.main as summary\n",
    "\n",
    "import module.text_model.bow as bow"
   ]
  },
  {
   "cell_type": "markdown",
   "metadata": {},
   "source": [
    "___"
   ]
  },
  {
   "cell_type": "code",
   "execution_count": 2,
   "metadata": {},
   "outputs": [],
   "source": [
    "# install nltk only once\n",
    "\n",
    "#import nltk\n",
    "#nltk.download('wordnet')"
   ]
  },
  {
   "cell_type": "markdown",
   "metadata": {},
   "source": [
    "___"
   ]
  },
  {
   "cell_type": "markdown",
   "metadata": {},
   "source": [
    "## Constants"
   ]
  },
  {
   "cell_type": "code",
   "execution_count": 3,
   "metadata": {},
   "outputs": [],
   "source": [
    "# number of representative terms, of each topic\n",
    "n_rep = 3\n",
    "# number n of top terms, for coherence measurement\n",
    "n_of_top_terms = 5"
   ]
  },
  {
   "cell_type": "markdown",
   "metadata": {},
   "source": [
    "___"
   ]
  },
  {
   "cell_type": "markdown",
   "metadata": {},
   "source": [
    "## Loading dataset"
   ]
  },
  {
   "cell_type": "code",
   "execution_count": 4,
   "metadata": {},
   "outputs": [],
   "source": [
    "text = readData.readFile(\"./dataset/social-media-impacts.txt\")\n",
    "# [document0, document1, ..]"
   ]
  },
  {
   "cell_type": "markdown",
   "metadata": {
    "_cell_guid": "6e7b34be-f0bd-4613-809d-5cd545ce9b49",
    "_uuid": "f648e42baafdead7dee89eb1e031bb9cccd92653"
   },
   "source": [
    "---"
   ]
  },
  {
   "cell_type": "markdown",
   "metadata": {},
   "source": [
    "## Generate Bag of Words"
   ]
  },
  {
   "cell_type": "code",
   "execution_count": 5,
   "metadata": {},
   "outputs": [],
   "source": [
    "bow = bow.bagOfWords(text)"
   ]
  },
  {
   "cell_type": "markdown",
   "metadata": {},
   "source": [
    "___"
   ]
  },
  {
   "cell_type": "markdown",
   "metadata": {
    "_cell_guid": "5e9aae62-cfe9-41fc-89f7-db7bc52856d3",
    "_uuid": "1bde06819b79a77474cff57b4082c451c7649ef8"
   },
   "source": [
    "## Latent Dirichlet Allocation via Topic Coherence\n"
   ]
  },
  {
   "cell_type": "code",
   "execution_count": 6,
   "metadata": {},
   "outputs": [],
   "source": [
    "# possible number of topics to search in\n",
    "ks = [3, 4, 5, 6, 7]"
   ]
  },
  {
   "cell_type": "code",
   "execution_count": 7,
   "metadata": {},
   "outputs": [],
   "source": [
    "lda = opti.coherenceOptimize(ks, bow, n_of_top_terms)"
   ]
  },
  {
   "cell_type": "code",
   "execution_count": 8,
   "metadata": {},
   "outputs": [],
   "source": [
    "topicsLen = lda.getNumberOfTopics()"
   ]
  },
  {
   "cell_type": "markdown",
   "metadata": {},
   "source": [
    "___"
   ]
  },
  {
   "cell_type": "markdown",
   "metadata": {
    "_cell_guid": "83b4227f-9bca-4a42-8038-91d57c75bd38",
    "_uuid": "33dba856c6a1bf17c8beeff6873502083cecfa65"
   },
   "source": [
    "## Topics (by top distinguishing keywords)"
   ]
  },
  {
   "cell_type": "code",
   "execution_count": 9,
   "metadata": {
    "_cell_guid": "5fd40ac5-d55a-47d9-9a09-7dd4e4bf3b76",
    "_uuid": "aae615ba55d2869acc555de0b1d764b620b87119"
   },
   "outputs": [
    {
     "name": "stdout",
     "output_type": "stream",
     "text": [
      "topic #0 ['medium', 'social', 'use', 'study', 'disturbance']\n",
      "topic #1 ['social', 'medium', 'site', 'sleep', 'user']\n",
      "topic #2 ['social', 'medium', 'emotional', 'effect', 'experience']\n"
     ]
    }
   ],
   "source": [
    "bogFeaNam = bow.getFeatureNames()\n",
    "\n",
    "for topicIndex in range(topicsLen):\n",
    "    print(\"topic #{}\".format(topicIndex), lda.getTopWordsOfTopicInd(topicIndex, n_of_top_terms))"
   ]
  },
  {
   "cell_type": "markdown",
   "metadata": {},
   "source": [
    "___"
   ]
  },
  {
   "cell_type": "markdown",
   "metadata": {},
   "source": [
    "## Topics Relevance of Documents"
   ]
  },
  {
   "cell_type": "code",
   "execution_count": 10,
   "metadata": {},
   "outputs": [],
   "source": [
    "docs_topicDist = lda.getDocs_topicDist()"
   ]
  },
  {
   "cell_type": "markdown",
   "metadata": {},
   "source": [
    "___"
   ]
  },
  {
   "cell_type": "markdown",
   "metadata": {},
   "source": [
    "## Docs Score Based Summary"
   ]
  },
  {
   "cell_type": "code",
   "execution_count": 11,
   "metadata": {},
   "outputs": [],
   "source": [
    "summary = summary.docsScoreSummary(lda, docs_topicDist, n_rep, topicsLen, bow, text)"
   ]
  },
  {
   "cell_type": "code",
   "execution_count": 12,
   "metadata": {},
   "outputs": [
    {
     "name": "stdout",
     "output_type": "stream",
     "text": [
      "\n",
      "\n",
      " This may lead to problems such as reclusiveness which can negatively damage one's health by creating feelings of loneliness and low self-esteem among young people\n",
      "\n",
      " A second emotional effect is social media burnout, which is defined by Bo Han as ambivalence, emotional exhaustion, and depersonalization One studied emotional effect is Facebook depression, which is a type of depression that affects adolescents who spend too much of their free time engaging with social media sites\n",
      "\n",
      "\n"
     ]
    }
   ],
   "source": [
    "print(summary)"
   ]
  },
  {
   "cell_type": "code",
   "execution_count": null,
   "metadata": {},
   "outputs": [],
   "source": []
  }
 ],
 "metadata": {
  "kernelspec": {
   "display_name": "Python 3",
   "language": "python",
   "name": "python3"
  },
  "language_info": {
   "codemirror_mode": {
    "name": "ipython",
    "version": 3
   },
   "file_extension": ".py",
   "mimetype": "text/x-python",
   "name": "python",
   "nbconvert_exporter": "python",
   "pygments_lexer": "ipython3",
   "version": "3.8.5"
  }
 },
 "nbformat": 4,
 "nbformat_minor": 1
}
